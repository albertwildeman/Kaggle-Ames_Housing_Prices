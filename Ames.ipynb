{
 "cells": [
  {
   "cell_type": "markdown",
   "metadata": {},
   "source": [
    "# Predicting Ames house prices\n",
    "This notebook explores prediction methods for the Ames house prices dataset. After an initial look at the data and some preprocessing (elementary feature engineering, imputation, log scaling and normalization), I compare the performance of regularized linear models, gradient boosting, random forests, support vector regression and a k-nearest neighbor regressor.\n",
    "\n",
    "Author: Albert Wildeman"
   ]
  },
  {
   "cell_type": "code",
   "execution_count": 1,
   "metadata": {
    "collapsed": false
   },
   "outputs": [],
   "source": [
    "# Load libraries\n",
    "import numpy as np\n",
    "import pandas as pd\n",
    "import scipy.stats as st\n",
    "from IPython.display import display\n",
    "\n",
    "# SKLearn\n",
    "from sklearn import linear_model, ensemble, svm, neighbors, preprocessing\n",
    "from sklearn.model_selection import cross_val_score\n",
    "\n",
    "# Graphics\n",
    "import matplotlib.pyplot as plt\n",
    "import matplotlib\n",
    "%matplotlib inline\n",
    "matplotlib.rcParams['figure.figsize'] = (15.0, 5.0)\n",
    "\n",
    "# Set random seed for reproducibility\n",
    "np.random.seed(0)"
   ]
  },
  {
   "cell_type": "markdown",
   "metadata": {},
   "source": [
    "# Load data"
   ]
  },
  {
   "cell_type": "code",
   "execution_count": 2,
   "metadata": {
    "collapsed": false
   },
   "outputs": [
    {
     "data": {
      "text/html": [
       "<div>\n",
       "<table border=\"1\" class=\"dataframe\">\n",
       "  <thead>\n",
       "    <tr style=\"text-align: right;\">\n",
       "      <th></th>\n",
       "      <th>1stFlrSF</th>\n",
       "      <th>2ndFlrSF</th>\n",
       "      <th>3SsnPorch</th>\n",
       "      <th>Alley</th>\n",
       "      <th>BedroomAbvGr</th>\n",
       "      <th>BldgType</th>\n",
       "      <th>BsmtCond</th>\n",
       "      <th>BsmtExposure</th>\n",
       "      <th>BsmtFinSF1</th>\n",
       "      <th>BsmtFinSF2</th>\n",
       "      <th>...</th>\n",
       "      <th>SaleType</th>\n",
       "      <th>ScreenPorch</th>\n",
       "      <th>Street</th>\n",
       "      <th>TotRmsAbvGrd</th>\n",
       "      <th>TotalBsmtSF</th>\n",
       "      <th>Utilities</th>\n",
       "      <th>WoodDeckSF</th>\n",
       "      <th>YearBuilt</th>\n",
       "      <th>YearRemodAdd</th>\n",
       "      <th>YrSold</th>\n",
       "    </tr>\n",
       "  </thead>\n",
       "  <tbody>\n",
       "    <tr>\n",
       "      <th>0</th>\n",
       "      <td>856</td>\n",
       "      <td>854</td>\n",
       "      <td>0</td>\n",
       "      <td>NaN</td>\n",
       "      <td>3</td>\n",
       "      <td>1Fam</td>\n",
       "      <td>TA</td>\n",
       "      <td>No</td>\n",
       "      <td>706.0</td>\n",
       "      <td>0.0</td>\n",
       "      <td>...</td>\n",
       "      <td>WD</td>\n",
       "      <td>0</td>\n",
       "      <td>Pave</td>\n",
       "      <td>8</td>\n",
       "      <td>856.0</td>\n",
       "      <td>AllPub</td>\n",
       "      <td>0</td>\n",
       "      <td>2003</td>\n",
       "      <td>2003</td>\n",
       "      <td>2008</td>\n",
       "    </tr>\n",
       "    <tr>\n",
       "      <th>1</th>\n",
       "      <td>1262</td>\n",
       "      <td>0</td>\n",
       "      <td>0</td>\n",
       "      <td>NaN</td>\n",
       "      <td>3</td>\n",
       "      <td>1Fam</td>\n",
       "      <td>TA</td>\n",
       "      <td>Gd</td>\n",
       "      <td>978.0</td>\n",
       "      <td>0.0</td>\n",
       "      <td>...</td>\n",
       "      <td>WD</td>\n",
       "      <td>0</td>\n",
       "      <td>Pave</td>\n",
       "      <td>6</td>\n",
       "      <td>1262.0</td>\n",
       "      <td>AllPub</td>\n",
       "      <td>298</td>\n",
       "      <td>1976</td>\n",
       "      <td>1976</td>\n",
       "      <td>2007</td>\n",
       "    </tr>\n",
       "    <tr>\n",
       "      <th>2</th>\n",
       "      <td>920</td>\n",
       "      <td>866</td>\n",
       "      <td>0</td>\n",
       "      <td>NaN</td>\n",
       "      <td>3</td>\n",
       "      <td>1Fam</td>\n",
       "      <td>TA</td>\n",
       "      <td>Mn</td>\n",
       "      <td>486.0</td>\n",
       "      <td>0.0</td>\n",
       "      <td>...</td>\n",
       "      <td>WD</td>\n",
       "      <td>0</td>\n",
       "      <td>Pave</td>\n",
       "      <td>6</td>\n",
       "      <td>920.0</td>\n",
       "      <td>AllPub</td>\n",
       "      <td>0</td>\n",
       "      <td>2001</td>\n",
       "      <td>2002</td>\n",
       "      <td>2008</td>\n",
       "    </tr>\n",
       "    <tr>\n",
       "      <th>3</th>\n",
       "      <td>961</td>\n",
       "      <td>756</td>\n",
       "      <td>0</td>\n",
       "      <td>NaN</td>\n",
       "      <td>3</td>\n",
       "      <td>1Fam</td>\n",
       "      <td>Gd</td>\n",
       "      <td>No</td>\n",
       "      <td>216.0</td>\n",
       "      <td>0.0</td>\n",
       "      <td>...</td>\n",
       "      <td>WD</td>\n",
       "      <td>0</td>\n",
       "      <td>Pave</td>\n",
       "      <td>7</td>\n",
       "      <td>756.0</td>\n",
       "      <td>AllPub</td>\n",
       "      <td>0</td>\n",
       "      <td>1915</td>\n",
       "      <td>1970</td>\n",
       "      <td>2006</td>\n",
       "    </tr>\n",
       "    <tr>\n",
       "      <th>4</th>\n",
       "      <td>1145</td>\n",
       "      <td>1053</td>\n",
       "      <td>0</td>\n",
       "      <td>NaN</td>\n",
       "      <td>4</td>\n",
       "      <td>1Fam</td>\n",
       "      <td>TA</td>\n",
       "      <td>Av</td>\n",
       "      <td>655.0</td>\n",
       "      <td>0.0</td>\n",
       "      <td>...</td>\n",
       "      <td>WD</td>\n",
       "      <td>0</td>\n",
       "      <td>Pave</td>\n",
       "      <td>9</td>\n",
       "      <td>1145.0</td>\n",
       "      <td>AllPub</td>\n",
       "      <td>192</td>\n",
       "      <td>2000</td>\n",
       "      <td>2000</td>\n",
       "      <td>2008</td>\n",
       "    </tr>\n",
       "  </tbody>\n",
       "</table>\n",
       "<p>5 rows × 80 columns</p>\n",
       "</div>"
      ],
      "text/plain": [
       "   1stFlrSF  2ndFlrSF  3SsnPorch Alley  BedroomAbvGr BldgType BsmtCond  \\\n",
       "0       856       854          0   NaN             3     1Fam       TA   \n",
       "1      1262         0          0   NaN             3     1Fam       TA   \n",
       "2       920       866          0   NaN             3     1Fam       TA   \n",
       "3       961       756          0   NaN             3     1Fam       Gd   \n",
       "4      1145      1053          0   NaN             4     1Fam       TA   \n",
       "\n",
       "  BsmtExposure  BsmtFinSF1  BsmtFinSF2  ...   SaleType ScreenPorch  Street  \\\n",
       "0           No       706.0         0.0  ...         WD           0    Pave   \n",
       "1           Gd       978.0         0.0  ...         WD           0    Pave   \n",
       "2           Mn       486.0         0.0  ...         WD           0    Pave   \n",
       "3           No       216.0         0.0  ...         WD           0    Pave   \n",
       "4           Av       655.0         0.0  ...         WD           0    Pave   \n",
       "\n",
       "   TotRmsAbvGrd TotalBsmtSF  Utilities WoodDeckSF YearBuilt YearRemodAdd  \\\n",
       "0             8       856.0     AllPub          0      2003         2003   \n",
       "1             6      1262.0     AllPub        298      1976         1976   \n",
       "2             6       920.0     AllPub          0      2001         2002   \n",
       "3             7       756.0     AllPub          0      1915         1970   \n",
       "4             9      1145.0     AllPub        192      2000         2000   \n",
       "\n",
       "  YrSold  \n",
       "0   2008  \n",
       "1   2007  \n",
       "2   2008  \n",
       "3   2006  \n",
       "4   2008  \n",
       "\n",
       "[5 rows x 80 columns]"
      ]
     },
     "execution_count": 2,
     "metadata": {},
     "output_type": "execute_result"
    }
   ],
   "source": [
    "DF_trn = pd.read_csv(\"Data/train.csv\")\n",
    "DF_tst = pd.read_csv(\"Data/test.csv\")\n",
    "\n",
    "# Combine test and training data, for the purpose of manipulating features in both simultaneously\n",
    "DF = pd.concat([DF_trn, DF_tst], axis=0, ignore_index=True)\n",
    "\n",
    "# Get length of training and test test, and create variables to index each subset\n",
    "n_trn = len(DF_trn); n_tst = len(DF_tst); n_ttl = n_trn+n_tst\n",
    "trn = np.arange(n_trn); tst = np.arange(n_trn, n_ttl)\n",
    "\n",
    "# Discard sale Id (this is just index +1, and should be removed to avoid its inclusion in prediction models)\n",
    "del DF[\"Id\"]\n",
    "DF.head()"
   ]
  },
  {
   "cell_type": "markdown",
   "metadata": {},
   "source": [
    "# A look at the distribution of house prices\n",
    "A few exploratory graphs to get a first impression of the data:"
   ]
  },
  {
   "cell_type": "code",
   "execution_count": 3,
   "metadata": {
    "collapsed": false
   },
   "outputs": [
    {
     "name": "stdout",
     "output_type": "stream",
     "text": [
      "Range for year of sale: 2006 - 2010\n",
      "Range for sale prices: 34k - 755k\n"
     ]
    },
    {
     "data": {
      "text/plain": [
       "<matplotlib.legend.Legend at 0xc9c4efbc88>"
      ]
     },
     "execution_count": 3,
     "metadata": {},
     "output_type": "execute_result"
    },
    {
     "data": {
      "image/png": "[encoded data removed]",
      "text/plain": [
       "<matplotlib.figure.Figure at 0xc9c4a4f748>"
      ]
     },
     "metadata": {},
     "output_type": "display_data"
    }
   ],
   "source": [
    "# Display ranges for the year of sale and price:\n",
    "year_range = [DF.loc[trn,'YrSold'].min(), DF.loc[trn,'YrSold'].max()] \n",
    "print(\"Range for year of sale: \" + str(year_range[0]) + \" - \" + str(year_range[1]))\n",
    "print(\"Range for sale prices: %dk - %dk\" % (DF.loc[trn,'SalePrice'].min()/1000, DF.loc[trn,'SalePrice'].max()/1000))\n",
    "\n",
    "# Diplay histogram of sale prices\n",
    "fig = plt.figure(figsize=(18,8))\n",
    "ax1 = plt.subplot2grid((1,2),(0,0))\n",
    "DF.loc[trn,'SalePrice'].plot(kind='hist', color='blue', label='Sale Price', bins=40, alpha=0.7)    \n",
    "plt.title(\"Distribution of sale prices\")\n",
    "\n",
    "# Graph the kernel density estimate of sale prices, separately for each year of sale\n",
    "ax2 = plt.subplot2grid((1,2),(0,1))\n",
    "SalePrices_year = [[] for x in range(year_range[0],year_range[1]+1)]\n",
    "for year in range(year_range[0],year_range[1]+1):\n",
    "    idx = np.array(DF.loc[trn,'YrSold']==year)\n",
    "    SalePrices_year[year-year_range[0]] = DF.loc[idx,'SalePrice']\n",
    "    SalePrices_year[year-year_range[0]].plot(kind='kde', color=[0,0.8-(year-2006)/5,(year-2006)/5], label=year, alpha=0.7, lw=3)\n",
    "\n",
    "plt.title(\"Distribution of sale prices per year of sale\")\n",
    "plt.xlim(0,800000)\n",
    "plt.legend()"
   ]
  },
  {
   "cell_type": "markdown",
   "metadata": {},
   "source": [
    "The shape of the distribution looks quite consistent over the years. Despite the data spanning the 2008 financial crisis, the year of sale does not seem to have a particularly dominant effect on sale price on its own. \n",
    "Next, a look at the relation between the year a house was built and the sale price (kernel density estimate plot):"
   ]
  },
  {
   "cell_type": "code",
   "execution_count": 4,
   "metadata": {
    "collapsed": false
   },
   "outputs": [
    {
     "data": {
      "text/plain": [
       "<matplotlib.text.Text at 0xc9c5348ac8>"
      ]
     },
     "execution_count": 4,
     "metadata": {},
     "output_type": "execute_result"
    },
    {
     "data": {
      "image/png": "[encoded data removed]",
      "text/plain": [
       "<matplotlib.figure.Figure at 0xc9c4f60c18>"
      ]
     },
     "metadata": {},
     "output_type": "display_data"
    }
   ],
   "source": [
    "x = DF.loc[trn,'YearBuilt']\n",
    "y = DF.loc[trn,'SalePrice']\n",
    "xmin, xmax = 1900, DF.loc[trn,'YearBuilt'].max()\n",
    "ymin, ymax = DF.loc[trn,'SalePrice'].min(), 400000\n",
    "\n",
    "# Peform the kernel density estimate\n",
    "xx, yy = np.mgrid[xmin:xmax:100j, ymin:ymax:100j]\n",
    "positions = np.vstack([xx.ravel(), yy.ravel()])\n",
    "values = np.vstack([x, y])\n",
    "kernel = st.gaussian_kde(values)\n",
    "f = np.reshape(kernel(positions).T, xx.shape)\n",
    "# create the plot\n",
    "fig = plt.figure(figsize=(18,8))\n",
    "ax = fig.gca()\n",
    "ax.set_xlim(xmin, xmax)\n",
    "ax.set_ylim(ymin, ymax)\n",
    "cfset = ax.contourf(xx, yy, f, cmap='Blues')\n",
    "plt.title('Kernel density estimate, by year built and sale price')\n",
    "ax.set_xlabel('Year built'); ax.set_ylabel('Sale price')"
   ]
  },
  {
   "cell_type": "markdown",
   "metadata": {},
   "source": [
    "This plot shows an accelerating increase of the sale price of a house with the year in which it was built. Because the sale prices are from a relatively small range of years (2006-2010), this can also be interpreted as the price of a house decaying approximately exponentially with age.\n",
    "In addition it illustrates that of the houses sold in 2006-2010, a large proportion was built around either 1960 or 2000, the latter of which roughly coincides with the housing bubble leading up to the 2008 financial crisis."
   ]
  },
  {
   "cell_type": "markdown",
   "metadata": {},
   "source": [
    "# Imputation & feature engineering\n",
    "## Basement features\n",
    "To start, let's a have a look at the many features related to basements:"
   ]
  },
  {
   "cell_type": "code",
   "execution_count": 5,
   "metadata": {
    "collapsed": false
   },
   "outputs": [
    {
     "data": {
      "text/html": [
       "<div>\n",
       "<table border=\"1\" class=\"dataframe\">\n",
       "  <thead>\n",
       "    <tr style=\"text-align: right;\">\n",
       "      <th></th>\n",
       "      <th>BsmtCond</th>\n",
       "      <th>BsmtExposure</th>\n",
       "      <th>BsmtFinSF1</th>\n",
       "      <th>BsmtFinSF2</th>\n",
       "      <th>BsmtFinType1</th>\n",
       "      <th>BsmtFinType2</th>\n",
       "      <th>BsmtFullBath</th>\n",
       "      <th>BsmtHalfBath</th>\n",
       "      <th>BsmtQual</th>\n",
       "      <th>BsmtUnfSF</th>\n",
       "      <th>TotalBsmtSF</th>\n",
       "    </tr>\n",
       "  </thead>\n",
       "  <tbody>\n",
       "    <tr>\n",
       "      <th>0</th>\n",
       "      <td>TA</td>\n",
       "      <td>No</td>\n",
       "      <td>706.0</td>\n",
       "      <td>0.0</td>\n",
       "      <td>GLQ</td>\n",
       "      <td>Unf</td>\n",
       "      <td>1.0</td>\n",
       "      <td>0.0</td>\n",
       "      <td>Gd</td>\n",
       "      <td>150.0</td>\n",
       "      <td>856.0</td>\n",
       "    </tr>\n",
       "    <tr>\n",
       "      <th>1</th>\n",
       "      <td>TA</td>\n",
       "      <td>Gd</td>\n",
       "      <td>978.0</td>\n",
       "      <td>0.0</td>\n",
       "      <td>ALQ</td>\n",
       "      <td>Unf</td>\n",
       "      <td>0.0</td>\n",
       "      <td>1.0</td>\n",
       "      <td>Gd</td>\n",
       "      <td>284.0</td>\n",
       "      <td>1262.0</td>\n",
       "    </tr>\n",
       "    <tr>\n",
       "      <th>2</th>\n",
       "      <td>TA</td>\n",
       "      <td>Mn</td>\n",
       "      <td>486.0</td>\n",
       "      <td>0.0</td>\n",
       "      <td>GLQ</td>\n",
       "      <td>Unf</td>\n",
       "      <td>1.0</td>\n",
       "      <td>0.0</td>\n",
       "      <td>Gd</td>\n",
       "      <td>434.0</td>\n",
       "      <td>920.0</td>\n",
       "    </tr>\n",
       "    <tr>\n",
       "      <th>3</th>\n",
       "      <td>Gd</td>\n",
       "      <td>No</td>\n",
       "      <td>216.0</td>\n",
       "      <td>0.0</td>\n",
       "      <td>ALQ</td>\n",
       "      <td>Unf</td>\n",
       "      <td>1.0</td>\n",
       "      <td>0.0</td>\n",
       "      <td>TA</td>\n",
       "      <td>540.0</td>\n",
       "      <td>756.0</td>\n",
       "    </tr>\n",
       "    <tr>\n",
       "      <th>4</th>\n",
       "      <td>TA</td>\n",
       "      <td>Av</td>\n",
       "      <td>655.0</td>\n",
       "      <td>0.0</td>\n",
       "      <td>GLQ</td>\n",
       "      <td>Unf</td>\n",
       "      <td>1.0</td>\n",
       "      <td>0.0</td>\n",
       "      <td>Gd</td>\n",
       "      <td>490.0</td>\n",
       "      <td>1145.0</td>\n",
       "    </tr>\n",
       "  </tbody>\n",
       "</table>\n",
       "</div>"
      ],
      "text/plain": [
       "  BsmtCond BsmtExposure  BsmtFinSF1  BsmtFinSF2 BsmtFinType1 BsmtFinType2  \\\n",
       "0       TA           No       706.0         0.0          GLQ          Unf   \n",
       "1       TA           Gd       978.0         0.0          ALQ          Unf   \n",
       "2       TA           Mn       486.0         0.0          GLQ          Unf   \n",
       "3       Gd           No       216.0         0.0          ALQ          Unf   \n",
       "4       TA           Av       655.0         0.0          GLQ          Unf   \n",
       "\n",
       "   BsmtFullBath  BsmtHalfBath BsmtQual  BsmtUnfSF  TotalBsmtSF  \n",
       "0           1.0           0.0       Gd      150.0        856.0  \n",
       "1           0.0           1.0       Gd      284.0       1262.0  \n",
       "2           1.0           0.0       Gd      434.0        920.0  \n",
       "3           1.0           0.0       TA      540.0        756.0  \n",
       "4           1.0           0.0       Gd      490.0       1145.0  "
      ]
     },
     "execution_count": 5,
     "metadata": {},
     "output_type": "execute_result"
    }
   ],
   "source": [
    "bsmt_cols = [col for col in DF.columns if \"Bsmt\" in col]\n",
    "DF[bsmt_cols].head()"
   ]
  },
  {
   "cell_type": "code",
   "execution_count": 6,
   "metadata": {
    "collapsed": false
   },
   "outputs": [
    {
     "data": {
      "text/html": [
       "<div>\n",
       "<table border=\"1\" class=\"dataframe\">\n",
       "  <thead>\n",
       "    <tr style=\"text-align: right;\">\n",
       "      <th></th>\n",
       "      <th>BsmtCond</th>\n",
       "      <th>BsmtExposure</th>\n",
       "      <th>BsmtFullBath</th>\n",
       "      <th>BsmtHalfBath</th>\n",
       "      <th>BsmtQual</th>\n",
       "      <th>BsmtSF_GLQ</th>\n",
       "      <th>BsmtSF_ALQ</th>\n",
       "      <th>BsmtSF_Unf</th>\n",
       "      <th>BsmtSF_Rec</th>\n",
       "      <th>BsmtSF_BLQ</th>\n",
       "      <th>BsmtSF_LwQ</th>\n",
       "    </tr>\n",
       "  </thead>\n",
       "  <tbody>\n",
       "    <tr>\n",
       "      <th>2120</th>\n",
       "      <td>None</td>\n",
       "      <td>None</td>\n",
       "      <td>NaN</td>\n",
       "      <td>NaN</td>\n",
       "      <td>None</td>\n",
       "      <td>0.0</td>\n",
       "      <td>0.0</td>\n",
       "      <td>0.0</td>\n",
       "      <td>0.0</td>\n",
       "      <td>0.0</td>\n",
       "      <td>0.0</td>\n",
       "    </tr>\n",
       "    <tr>\n",
       "      <th>2188</th>\n",
       "      <td>None</td>\n",
       "      <td>None</td>\n",
       "      <td>NaN</td>\n",
       "      <td>NaN</td>\n",
       "      <td>None</td>\n",
       "      <td>0.0</td>\n",
       "      <td>0.0</td>\n",
       "      <td>0.0</td>\n",
       "      <td>0.0</td>\n",
       "      <td>0.0</td>\n",
       "      <td>0.0</td>\n",
       "    </tr>\n",
       "  </tbody>\n",
       "</table>\n",
       "</div>"
      ],
      "text/plain": [
       "     BsmtCond BsmtExposure  BsmtFullBath  BsmtHalfBath BsmtQual  BsmtSF_GLQ  \\\n",
       "2120     None         None           NaN           NaN     None         0.0   \n",
       "2188     None         None           NaN           NaN     None         0.0   \n",
       "\n",
       "      BsmtSF_ALQ  BsmtSF_Unf  BsmtSF_Rec  BsmtSF_BLQ  BsmtSF_LwQ  \n",
       "2120         0.0         0.0         0.0         0.0         0.0  \n",
       "2188         0.0         0.0         0.0         0.0         0.0  "
      ]
     },
     "metadata": {},
     "output_type": "display_data"
    }
   ],
   "source": [
    "# Assume that basement areas for which no finish is specified are unfinished\n",
    "DF.loc[DF.BsmtFinType1.isnull(), \"BsmtFinType1\" ] =\"Unf\"\n",
    "DF.loc[DF.BsmtFinType2.isnull(), \"BsmtFinType2\" ] =\"Unf\"\n",
    "\n",
    "# Get list of the names of basement finish types, and use it to generate a list of column names for new variables\n",
    "bsmt_fintypes = [fin for fin in DF.BsmtFinType1.unique() if isinstance(fin, str)]\n",
    "\n",
    "# Initialize new dataframe to hold these variables\n",
    "DF_bsmt_area = pd.DataFrame(data=np.zeros((n_ttl,len(bsmt_fintypes))), columns=bsmt_fintypes)\n",
    "# Fill the nonzero entries\n",
    "for i_house in range(n_ttl):\n",
    "    if DF.loc[i_house, \"BsmtFinSF1\"]>0:\n",
    "        fin_type = DF.loc[i_house, \"BsmtFinType1\"]\n",
    "        DF_bsmt_area.loc[i_house, fin_type] = DF.loc[i_house, \"BsmtFinSF1\"]\n",
    "    \n",
    "        if DF.loc[i_house, \"BsmtFinSF2\"]>0:\n",
    "            fin_type = DF.loc[i_house, \"BsmtFinType2\"]\n",
    "            DF_bsmt_area.loc[i_house, fin_type] += DF.loc[i_house, \"BsmtFinSF2\"]\n",
    "\n",
    "    # Add area from the separate column for unfinished basement area\n",
    "    if DF.loc[i_house, \"BsmtUnfSF\"]>0:\n",
    "        DF_bsmt_area.loc[i_house, \"Unf\"] += DF.loc[i_house, \"BsmtUnfSF\"]\n",
    "\n",
    "# Rename the columns to work in the context of the entire dataframe\n",
    "DF_bsmt_area.columns = [\"BsmtSF_\" + col for col in DF_bsmt_area.columns]\n",
    "# Remove obsolete features from DF and replace with the new features\n",
    "DF_no_bsmt_area = DF.drop([\"BsmtFinSF1\", \"BsmtFinSF2\", \"BsmtFinType1\", \"BsmtFinType2\", \"BsmtUnfSF\", \"TotalBsmtSF\"],\n",
    "        axis=1)\n",
    "# Append new features\n",
    "DF = pd.concat([DF_no_bsmt_area, DF_bsmt_area], axis=1)\n",
    "\n",
    "# For some bsmt features, missing values actually mean \"no basement\", rather than missing data. Replace these with \"None\".\n",
    "NoBsmt_feats = [\"BsmtQual\", \"BsmtCond\", \"BsmtExposure\"]\n",
    "DF.loc[:,NoBsmt_feats] = DF.loc[:,NoBsmt_feats].fillna(value=\"None\")\n",
    "\n",
    "# For the houses that still have missing bsmt features values, display all bsmt features\n",
    "bsmt_cols = [col for col in DF.columns if \"Bsmt\" in col]\n",
    "houses_NA = DF.loc[:,bsmt_cols].isnull().sum(axis=1)>0\n",
    "display(DF.loc[ houses_NA, bsmt_cols])\n",
    "# Since these houses have no basement, they logically don't have a bathroom in the basement, so set missing values to 0.0.\n",
    "DF.loc[houses_NA, [\"BsmtFullBath\", \"BsmtHalfBath\"]] = DF.loc[houses_NA, [\"BsmtFullBath\", \"BsmtHalfBath\"]].fillna(value=0.0)"
   ]
  },
  {
   "cell_type": "markdown",
   "metadata": {},
   "source": [
    "## Pool features\n"
   ]
  },
  {
   "cell_type": "code",
   "execution_count": 7,
   "metadata": {
    "collapsed": false
   },
   "outputs": [
    {
     "data": {
      "text/html": [
       "<div>\n",
       "<table border=\"1\" class=\"dataframe\">\n",
       "  <thead>\n",
       "    <tr style=\"text-align: right;\">\n",
       "      <th></th>\n",
       "      <th>PoolQC</th>\n",
       "      <th>PoolArea</th>\n",
       "      <th>SalePrice</th>\n",
       "    </tr>\n",
       "  </thead>\n",
       "  <tbody>\n",
       "    <tr>\n",
       "      <th>197</th>\n",
       "      <td>Ex</td>\n",
       "      <td>512</td>\n",
       "      <td>235000.0</td>\n",
       "    </tr>\n",
       "    <tr>\n",
       "      <th>810</th>\n",
       "      <td>Fa</td>\n",
       "      <td>648</td>\n",
       "      <td>181000.0</td>\n",
       "    </tr>\n",
       "    <tr>\n",
       "      <th>1170</th>\n",
       "      <td>Gd</td>\n",
       "      <td>576</td>\n",
       "      <td>171000.0</td>\n",
       "    </tr>\n",
       "    <tr>\n",
       "      <th>1182</th>\n",
       "      <td>Ex</td>\n",
       "      <td>555</td>\n",
       "      <td>745000.0</td>\n",
       "    </tr>\n",
       "    <tr>\n",
       "      <th>1298</th>\n",
       "      <td>Gd</td>\n",
       "      <td>480</td>\n",
       "      <td>160000.0</td>\n",
       "    </tr>\n",
       "    <tr>\n",
       "      <th>1386</th>\n",
       "      <td>Fa</td>\n",
       "      <td>519</td>\n",
       "      <td>250000.0</td>\n",
       "    </tr>\n",
       "    <tr>\n",
       "      <th>1423</th>\n",
       "      <td>Gd</td>\n",
       "      <td>738</td>\n",
       "      <td>274970.0</td>\n",
       "    </tr>\n",
       "    <tr>\n",
       "      <th>1974</th>\n",
       "      <td>Ex</td>\n",
       "      <td>144</td>\n",
       "      <td>NaN</td>\n",
       "    </tr>\n",
       "    <tr>\n",
       "      <th>2573</th>\n",
       "      <td>Ex</td>\n",
       "      <td>228</td>\n",
       "      <td>NaN</td>\n",
       "    </tr>\n",
       "    <tr>\n",
       "      <th>2710</th>\n",
       "      <td>Gd</td>\n",
       "      <td>800</td>\n",
       "      <td>NaN</td>\n",
       "    </tr>\n",
       "  </tbody>\n",
       "</table>\n",
       "</div>"
      ],
      "text/plain": [
       "     PoolQC  PoolArea  SalePrice\n",
       "197      Ex       512   235000.0\n",
       "810      Fa       648   181000.0\n",
       "1170     Gd       576   171000.0\n",
       "1182     Ex       555   745000.0\n",
       "1298     Gd       480   160000.0\n",
       "1386     Fa       519   250000.0\n",
       "1423     Gd       738   274970.0\n",
       "1974     Ex       144        NaN\n",
       "2573     Ex       228        NaN\n",
       "2710     Gd       800        NaN"
      ]
     },
     "metadata": {},
     "output_type": "display_data"
    }
   ],
   "source": [
    "# For all houses with a pool, inspect the pool quality and area variables as well as the sale price\n",
    "houses_w_pool = DF.loc[:,\"PoolQC\"].notnull()\n",
    "display(DF.loc[houses_w_pool, [\"PoolQC\", \"PoolArea\",\"SalePrice\"]])\n",
    "# With only 7 houses with a pool in the training set, using more than one variable for the pool would be pointless, \n",
    "# but discarding it altogether would also be wasteful. Create a single variable, 'Pool', which holds the product of\n",
    "# the pool area and the pool quality (encoded as Fair = 1, Good = 2, Excellent = 3). Use zero as the value for no pool.\n",
    "dic = {\"Fa\": 1, \"Gd\": 2, \"Ex\": 3}\n",
    "PoolQC = DF.loc[:,\"PoolQC\"].map(dic).fillna(0)\n",
    "PoolArea = DF.loc[:,\"PoolArea\"].fillna(0)\n",
    "Pool = PoolQC * PoolArea\n",
    "Pool[houses_w_pool]\n",
    "# Replace PoolQC and PoolArea with Pool\n",
    "DF_no_pool = DF.drop([\"PoolQC\", \"PoolArea\"], axis=1)\n",
    "DF = pd.concat([DF_no_pool, pd.DataFrame(data=Pool, columns=[\"Pool\"])], axis=1)\n",
    "# Sort all features\n",
    "DF.sort_index(axis=1, inplace=True)"
   ]
  },
  {
   "cell_type": "markdown",
   "metadata": {},
   "source": [
    "## Utilities feature"
   ]
  },
  {
   "cell_type": "code",
   "execution_count": 8,
   "metadata": {
    "collapsed": false
   },
   "outputs": [
    {
     "data": {
      "text/plain": [
       "AllPub    2916\n",
       "NaN          2\n",
       "NoSeWa       1\n",
       "Name: Utilities, dtype: int64"
      ]
     },
     "metadata": {},
     "output_type": "display_data"
    }
   ],
   "source": [
    "# Inspect the frequencies of the possible values\n",
    "display(DF.Utilities.value_counts(dropna=False))\n",
    "# Essentially, all houses have AllPub - only 1 has a different value and 2 have missing values.\n",
    "# This is far too few to do anything with, so just delete the feature.\n",
    "del DF[\"Utilities\"]"
   ]
  },
  {
   "cell_type": "markdown",
   "metadata": {},
   "source": [
    "## Miscellaneous features"
   ]
  },
  {
   "cell_type": "code",
   "execution_count": 9,
   "metadata": {
    "collapsed": true
   },
   "outputs": [],
   "source": [
    "# There are separate columns for the value and type of a misc. feature.\n",
    "# Since the purpose here is to predict value, discard the type.\n",
    "del DF[\"MiscFeature\"]"
   ]
  },
  {
   "cell_type": "markdown",
   "metadata": {},
   "source": [
    "## Garage features\n"
   ]
  },
  {
   "cell_type": "code",
   "execution_count": 10,
   "metadata": {
    "collapsed": false
   },
   "outputs": [
    {
     "data": {
      "text/html": [
       "<div>\n",
       "<table border=\"1\" class=\"dataframe\">\n",
       "  <thead>\n",
       "    <tr style=\"text-align: right;\">\n",
       "      <th></th>\n",
       "      <th>GarageArea</th>\n",
       "      <th>GarageCars</th>\n",
       "      <th>GarageCond</th>\n",
       "      <th>GarageFinish</th>\n",
       "      <th>GarageQual</th>\n",
       "      <th>GarageType</th>\n",
       "      <th>GarageYrBlt</th>\n",
       "    </tr>\n",
       "  </thead>\n",
       "  <tbody>\n",
       "    <tr>\n",
       "      <th>0</th>\n",
       "      <td>548.0</td>\n",
       "      <td>2.0</td>\n",
       "      <td>TA</td>\n",
       "      <td>RFn</td>\n",
       "      <td>TA</td>\n",
       "      <td>Attchd</td>\n",
       "      <td>2003.0</td>\n",
       "    </tr>\n",
       "    <tr>\n",
       "      <th>1</th>\n",
       "      <td>460.0</td>\n",
       "      <td>2.0</td>\n",
       "      <td>TA</td>\n",
       "      <td>RFn</td>\n",
       "      <td>TA</td>\n",
       "      <td>Attchd</td>\n",
       "      <td>1976.0</td>\n",
       "    </tr>\n",
       "    <tr>\n",
       "      <th>2</th>\n",
       "      <td>608.0</td>\n",
       "      <td>2.0</td>\n",
       "      <td>TA</td>\n",
       "      <td>RFn</td>\n",
       "      <td>TA</td>\n",
       "      <td>Attchd</td>\n",
       "      <td>2001.0</td>\n",
       "    </tr>\n",
       "  </tbody>\n",
       "</table>\n",
       "</div>"
      ],
      "text/plain": [
       "   GarageArea  GarageCars GarageCond GarageFinish GarageQual GarageType  \\\n",
       "0       548.0         2.0         TA          RFn         TA     Attchd   \n",
       "1       460.0         2.0         TA          RFn         TA     Attchd   \n",
       "2       608.0         2.0         TA          RFn         TA     Attchd   \n",
       "\n",
       "   GarageYrBlt  \n",
       "0       2003.0  \n",
       "1       1976.0  \n",
       "2       2001.0  "
      ]
     },
     "metadata": {},
     "output_type": "display_data"
    },
    {
     "name": "stdout",
     "output_type": "stream",
     "text": [
      "Number of missing values by feature:\n"
     ]
    },
    {
     "data": {
      "text/plain": [
       "GarageArea        1\n",
       "GarageCars        1\n",
       "GarageCond      159\n",
       "GarageFinish    159\n",
       "GarageQual      159\n",
       "GarageType      157\n",
       "GarageYrBlt     159\n",
       "dtype: int64"
      ]
     },
     "execution_count": 10,
     "metadata": {},
     "output_type": "execute_result"
    }
   ],
   "source": [
    "# Copy all features related to garages to a new dataframe for manipulation\n",
    "DF_grg = DF.loc[:,[f for f in DF.columns if \"Garage\" in f]].copy()\n",
    "display(DF_grg.head(3))\n",
    "# Display number of missing values per garage feature\n",
    "print(\"Number of missing values by feature:\")\n",
    "DF_grg.isnull().sum()"
   ]
  },
  {
   "cell_type": "code",
   "execution_count": 11,
   "metadata": {
    "collapsed": false
   },
   "outputs": [
    {
     "data": {
      "text/html": [
       "<div>\n",
       "<table border=\"1\" class=\"dataframe\">\n",
       "  <thead>\n",
       "    <tr style=\"text-align: right;\">\n",
       "      <th></th>\n",
       "      <th>GarageArea</th>\n",
       "      <th>GarageCars</th>\n",
       "      <th>GarageCond</th>\n",
       "      <th>GarageFinish</th>\n",
       "      <th>GarageQual</th>\n",
       "      <th>GarageType</th>\n",
       "      <th>GarageYrBlt</th>\n",
       "    </tr>\n",
       "  </thead>\n",
       "  <tbody>\n",
       "    <tr>\n",
       "      <th>2576</th>\n",
       "      <td>NaN</td>\n",
       "      <td>NaN</td>\n",
       "      <td>NaN</td>\n",
       "      <td>NaN</td>\n",
       "      <td>NaN</td>\n",
       "      <td>Detchd</td>\n",
       "      <td>NaN</td>\n",
       "    </tr>\n",
       "  </tbody>\n",
       "</table>\n",
       "</div>"
      ],
      "text/plain": [
       "      GarageArea  GarageCars GarageCond GarageFinish GarageQual GarageType  \\\n",
       "2576         NaN         NaN        NaN          NaN        NaN     Detchd   \n",
       "\n",
       "      GarageYrBlt  \n",
       "2576          NaN  "
      ]
     },
     "metadata": {},
     "output_type": "display_data"
    }
   ],
   "source": [
    "# Inspect the house or houses that have GarageArea unspecified:\n",
    "display(DF_grg.loc[DF_grg.loc[:,[\"GarageArea\",\"GarageCars\"]].isnull().sum(axis=1)>0,:])\n",
    "# All that is known is that this house has a detached garage, so fill it with values for a typical detached garage.\n",
    "mean_detchd = DF_grg.loc[DF_grg.loc[:,\"GarageType\"]==\"Detchd\",:].mean(axis=0)\n",
    "DF_grg.loc[DF_grg.loc[:,[\"GarageArea\",\"GarageCars\"]].isnull().sum(axis=1)>0,\"GarageArea\"] = mean_detchd.GarageArea\n",
    "DF_grg.loc[DF_grg.loc[:,[\"GarageArea\",\"GarageCars\"]].isnull().sum(axis=1)>0,\"GarageCars\"] = mean_detchd.GarageCars"
   ]
  },
  {
   "cell_type": "code",
   "execution_count": 12,
   "metadata": {
    "collapsed": false
   },
   "outputs": [],
   "source": [
    "# For Garages, type, finish, quality and condition features that are missing acutally mean there is no garage. Impute:\n",
    "DF_grg_cat = DF_grg.loc[:,[\"GarageCond\",\"GarageFinish\",\"GarageQual\",\"GarageType\"]].fillna(\"None\")\n",
    "# Seperate out the non-categorical variables\n",
    "DF_grg_noncat = DF_grg.loc[:,[\"GarageArea\",\"GarageCars\",\"GarageYrBlt\"]]\n",
    "DF_grg_noncat.isnull().sum()\n",
    "# GarageYrBlt still has missing values. For these houses, assume the garage was built the same year as the house.\n",
    "houses_missing_GarageYrBlt = (DF_grg_noncat.isnull().sum(axis=1)==1)\n",
    "DF_grg_noncat.loc[houses_missing_GarageYrBlt, \"GarageYrBlt\"] = DF.loc[houses_missing_GarageYrBlt, \"YearBuilt\"]\n",
    "\n",
    "# Put the processed values for the garage features back in DF\n",
    "DF_no_grg = DF.drop([f for f in DF.columns if \"Garage\" in f], axis=1)\n",
    "# Append new features\n",
    "DF = pd.concat([DF_no_grg, DF_grg_cat, DF_grg_noncat], axis=1)"
   ]
  },
  {
   "cell_type": "markdown",
   "metadata": {},
   "source": [
    "## Masonry veneer features"
   ]
  },
  {
   "cell_type": "code",
   "execution_count": 13,
   "metadata": {
    "collapsed": false
   },
   "outputs": [],
   "source": [
    "# For houses missing information on the type of masonry veneer, set the type to \"none\" and area to 0.\n",
    "DF.loc[DF.loc[:,\"MasVnrType\"].isnull(),\"MasVnrType\"] = \"None\"\n",
    "DF.loc[DF.loc[:,\"MasVnrArea\"].isnull(),\"MasVnrArea\"] = 0.0"
   ]
  },
  {
   "cell_type": "markdown",
   "metadata": {},
   "source": [
    "## Various features"
   ]
  },
  {
   "cell_type": "code",
   "execution_count": 14,
   "metadata": {
    "collapsed": false
   },
   "outputs": [
    {
     "data": {
      "text/plain": [
       "Alley          2721\n",
       "Electrical        1\n",
       "Exterior1st       1\n",
       "Exterior2nd       1\n",
       "Fence          2348\n",
       "FireplaceQu    1420\n",
       "Functional        2\n",
       "KitchenQual       1\n",
       "LotFrontage     486\n",
       "MSZoning          4\n",
       "SalePrice      1459\n",
       "SaleType          1\n",
       "dtype: int64"
      ]
     },
     "execution_count": 14,
     "metadata": {},
     "output_type": "execute_result"
    }
   ],
   "source": [
    "# Remaining missing values:\n",
    "DF.loc[:,DF.isnull().sum()>0].isnull().sum()"
   ]
  },
  {
   "cell_type": "code",
   "execution_count": 15,
   "metadata": {
    "collapsed": false
   },
   "outputs": [
    {
     "data": {
      "text/plain": [
       "SalePrice    1459\n",
       "dtype: int64"
      ]
     },
     "execution_count": 15,
     "metadata": {},
     "output_type": "execute_result"
    }
   ],
   "source": [
    "# Of these, Alley, Fence, FireplaceQu and MiscFeature all encode \"none\" as a missing value, so fill the missing values accordingly.\n",
    "DF_NAtoNONE = DF.loc[:,[\"Alley\", \"Fence\", \"FireplaceQu\"]].fillna(\"None\")\n",
    "DF_no_NAtoNONE = DF.drop([\"Alley\", \"Fence\", \"FireplaceQu\"], axis=1)\n",
    "DF = pd.concat([DF_no_NAtoNONE, DF_NAtoNONE], axis=1)\n",
    "\n",
    "# For the categorical features still missing values, impute the most common values:\n",
    "imp_cols = [\"Electrical\", \"Exterior1st\", \"Exterior2nd\", \"Functional\", \"KitchenQual\", \"MSZoning\", \"SaleType\"]\n",
    "imp_vals = DF.loc[:,imp_cols].mode()\n",
    "\n",
    "# Replace the old features with the new ones\n",
    "DF_new = DF.loc[:,imp_cols].fillna(value=imp_vals.loc[0,:])\n",
    "DF_old = DF.drop(imp_cols, axis=1)\n",
    "DF = pd.concat([DF_old, DF_new], axis=1)\n",
    "\n",
    "# For the lot frontage, fill missing values with the square root of the lot area.\n",
    "# This assumes the lot is square and has one side adjacent to a street.\n",
    "house_no_frntg = DF.loc[:,\"LotFrontage\"].isnull()\n",
    "imp = DF.loc[house_no_frntg, \"LotArea\"].copy() ** (0.5)\n",
    "DF.loc[house_no_frntg, \"LotFrontage\"] = imp\n",
    "\n",
    "# Verify that there are no longer an missing values. Note the test set has no SalePrice feature, so disregard that.\n",
    "DF.loc[:,DF.isnull().sum()>0].isnull().sum()"
   ]
  },
  {
   "cell_type": "markdown",
   "metadata": {},
   "source": [
    "## Map ordinal features\n",
    "Leaving the ordinal features untouched would let them be encoded as categorical in the following step, resulting in a large increase in dimensionality. Mapping to a numerical scale instead (though to an extent arbitrary, and a distortion) avoids that increase and conserves the logical ordering of the values in each feature."
   ]
  },
  {
   "cell_type": "code",
   "execution_count": 16,
   "metadata": {
    "collapsed": false
   },
   "outputs": [],
   "source": [
    "# Typical mapping:\n",
    "map_qual = {\"None\": 0.0, \"Po\": 1.0, \"Fa\": 2.0, \"TA\": 3.0, \"Gd\": 4.0, \"Ex\": 5.0}\n",
    "# Create a dictionary with all mappings (which are dictionaries themselves)\n",
    "ordinal_maps = {\n",
    "    \"Alley\": {\"None\": 0.0, \"Grvl\": 1.0, \"Pave\": 2.0},\n",
    "    \"BsmtCond\": map_qual,\n",
    "    \"BsmtExposure\": {\"None\": 0.0, \"No\": 1.0, \"Mn\": 2.0, \"Av\": 3.0, \"Gd\": 4.0},\n",
    "    \"BsmtQual\": map_qual,\n",
    "    \"CentralAir\": {\"N\": 0.0, \"Y\": 1.0},\n",
    "    \"Electrical\": {\"FuseP\": 0.0, \"FuseF\": 1.0, \"FuseA\": 2.0, \"Mix\": 3.0, \"SBrkr\": 4.0},\n",
    "    \"ExterCond\": map_qual,\n",
    "    \"ExterQual\": map_qual,\n",
    "    \"Fence\": {\"None\": 0.0, \"MnWw\": 1.0, \"GdWo\": 2.0, \"MnPrv\": 3.0, \"GdPrv\": 4.0},\n",
    "    \"FireplaceQu\": map_qual,\n",
    "    \"Functional\": {\"Sal\": 0.0, \"Sev\": 1.0, \"Maj2\": 2.0, \"Maj1\": 3.0, \"Mod\": 4.0, \n",
    "                   \"Min2\": 5.0, \"Min1\": 6.0, \"Typ\": 7.0},\n",
    "    \"GarageCond\": map_qual,\n",
    "    \"GarageFinish\": {\"None\": 0.0, \"Unf\": 1.0, \"RFn\": 2.0, \"Fin\": 3.0},\n",
    "    \"GarageQual\": map_qual,\n",
    "    \"HeatingQC\": map_qual,\n",
    "    \"KitchenQual\": map_qual,\n",
    "    \"LandSlope\": {\"Gtl\": 1.0, \"Mod\": 2.0, \"Sev\": 3.0},\n",
    "    \"LotShape\": {\"IR3\": 1.0, \"IR2\": 2.0, \"IR1\": 3.0, \"Reg\": 4.0},\n",
    "    \"PavedDrive\": {\"N\": 1.0, \"P\": 2.0, \"Y\": 3.0},\n",
    "    \"Street\": {\"Grvl\": 0.0, \"Pave\": 1.0}}\n",
    "# Apply the mappings\n",
    "for feat, mapping in ordinal_maps.items():\n",
    "    DF.loc[:,feat] = DF.loc[:,feat].copy().map(mapping)"
   ]
  },
  {
   "cell_type": "markdown",
   "metadata": {},
   "source": [
    "## One-hot encoding of categorical features\n",
    "   "
   ]
  },
  {
   "cell_type": "code",
   "execution_count": 17,
   "metadata": {
    "collapsed": false
   },
   "outputs": [],
   "source": [
    "# Use pandas get_dummies to apply one-hot encoding to categorical features\n",
    "DF = pd.get_dummies(DF, sparse=False)"
   ]
  },
  {
   "cell_type": "markdown",
   "metadata": {},
   "source": [
    "## Combining Condition1, Condition2 features\n",
    "The original Condition1 and Condition2 features listed whether a particular feature was present, and both have the same possible values. There is no difference in meaning between a feature being listed under the first or the second, so we can simply add the one-hot columns for each feature. "
   ]
  },
  {
   "cell_type": "code",
   "execution_count": 18,
   "metadata": {
    "collapsed": false
   },
   "outputs": [],
   "source": [
    "# Extract the features for Condition2\n",
    "DF_cond2 = DF.loc[:,[f for f in DF.columns if \"Condition2_\" in f]].copy()\n",
    "# Rename them for addition to Condition1\n",
    "DF_cond2.columns = [f.replace(\"Condition2_\", \"Condition1_\") for f in DF_cond2.columns]\n",
    "# Add the two together\n",
    "DF_tmp = DF.loc[:,[f for f in DF.columns if \"Condition1_\" in f]] + DF_cond2\n",
    "# Discard the \"Norm\" value for condition; it simply encodes the absence of any of the conditions. \n",
    "DF_cond_ttl = pd.concat([DF_tmp.drop([\"Condition1_RRNe\", \"Condition1_Norm\"], axis=1), DF.loc[:,\"Condition1_RRNe\"]], axis=1)\n",
    "# Replace the old Condition features with the new ones\n",
    "DF_no_cond = DF.drop([f for f in DF.columns if \"Condition1\" in f or \"Condition2\" in f], axis=1)\n",
    "DF = pd.concat([DF_no_cond, DF_cond_ttl], axis=1)"
   ]
  },
  {
   "cell_type": "markdown",
   "metadata": {},
   "source": [
    "# Log transformation & normalization\n",
    "## Log transformation of skewed variables\n",
    "Many of the variables are skewed and become more normal upon log transformation (strategy based on Alexandru Papiu's notebook). The distribution of the target, sale prices, is a good example:"
   ]
  },
  {
   "cell_type": "code",
   "execution_count": 19,
   "metadata": {
    "collapsed": false
   },
   "outputs": [
    {
     "data": {
      "text/plain": [
       "array([[<matplotlib.axes._subplots.AxesSubplot object at 0x000000C9C51D7C18>,\n",
       "        <matplotlib.axes._subplots.AxesSubplot object at 0x000000C9C52910F0>]], dtype=object)"
      ]
     },
     "execution_count": 19,
     "metadata": {},
     "output_type": "execute_result"
    },
    {
     "data": {
      "image/png": "[encoded data removed]",
      "text/plain": [
       "<matplotlib.figure.Figure at 0xc9bee6b5f8>"
      ]
     },
     "metadata": {},
     "output_type": "display_data"
    }
   ],
   "source": [
    "pr_for_hist = pd.DataFrame({\"Price\": DF.loc[trn, \"SalePrice\"], \"Log(1+Price)\": np.log1p(DF.loc[trn, \"SalePrice\"])})\n",
    "pr_for_hist.hist(bins=20,  alpha=0.7)"
   ]
  },
  {
   "cell_type": "markdown",
   "metadata": {},
   "source": [
    "A number of other variables are similarly skewed, so those are transformed as well:"
   ]
  },
  {
   "cell_type": "code",
   "execution_count": 20,
   "metadata": {
    "collapsed": false
   },
   "outputs": [],
   "source": [
    "num_feats = DF.columns[DF.dtypes != object]\n",
    "skewed_feats = [x for x in num_feats if st.skew(DF.loc[:,x].dropna())>.75]\n",
    "DF[skewed_feats] = np.log1p(DF[skewed_feats])"
   ]
  },
  {
   "cell_type": "markdown",
   "metadata": {},
   "source": [
    "## Normalization: mean-centering and variance scaling\n",
    "One of the benefits of normalization is that it allows regularized linear models such as Lasso or Ridge Regression to penalize the various feautures evenly."
   ]
  },
  {
   "cell_type": "code",
   "execution_count": 21,
   "metadata": {
    "collapsed": false
   },
   "outputs": [],
   "source": [
    "# Scale the features\n",
    "scaler_feats = preprocessing.StandardScaler()\n",
    "scaler_feats.fit(DF.loc[trn,:].drop([\"SalePrice\"],axis=1))\n",
    "X_trn = scaler_feats.transform(DF.loc[trn,:].drop([\"SalePrice\"],axis=1))\n",
    "X_tst = scaler_feats.transform(DF.loc[tst,:].drop([\"SalePrice\"],axis=1))\n",
    "# Scale the target\n",
    "scaler_price = preprocessing.StandardScaler()\n",
    "scaler_price.fit(DF.loc[trn,\"SalePrice\"].reshape(-1,1))\n",
    "y_trn = scaler_price.transform(DF.loc[trn,\"SalePrice\"].reshape(-1,1)).ravel()"
   ]
  },
  {
   "cell_type": "markdown",
   "metadata": {},
   "source": [
    "# Prediction\n",
    "A number of different prediction methods are tested, each with cross-validation for the selection of one parameter. For some of the methods multiple parameters could be tuned with CV, but I chose to keep things relatively simple here."
   ]
  },
  {
   "cell_type": "code",
   "execution_count": 22,
   "metadata": {
    "collapsed": true
   },
   "outputs": [],
   "source": [
    "# This function is used to generate CV scores for parameter selection, and is based on Alexandru Papiu's public notebook.\n",
    "def rmse_cv(model):\n",
    "    rmse= np.sqrt(-cross_val_score(model, X_trn, y_trn, scoring=\"neg_mean_squared_error\", cv = 10))\n",
    "    return(rmse)"
   ]
  },
  {
   "cell_type": "markdown",
   "metadata": {},
   "source": [
    "## Ridge Regression"
   ]
  },
  {
   "cell_type": "code",
   "execution_count": 23,
   "metadata": {
    "collapsed": false
   },
   "outputs": [
    {
     "data": {
      "text/plain": [
       "<matplotlib.text.Text at 0xc9ca129f98>"
      ]
     },
     "execution_count": 23,
     "metadata": {},
     "output_type": "execute_result"
    },
    {
     "data": {
      "image/png": "[encoded data removed]",
      "text/plain": [
       "<matplotlib.figure.Figure at 0xc9ca2407b8>"
      ]
     },
     "metadata": {},
     "output_type": "display_data"
    }
   ],
   "source": [
    "# Calculate CV RMSE for a range of alpha values\n",
    "alphas = [20,50,100, 150, 175, 200, 225, 250, 300, 500]\n",
    "cv_ridge = [rmse_cv(linear_model.Ridge(alpha = alpha)).mean() \n",
    "            for alpha in alphas]\n",
    "\n",
    "cv_ridge = pd.Series(cv_ridge, index = alphas)\n",
    "cv_ridge.plot(title = \"Cross-validation for alpha selection\", alpha=0.7, lw=3)\n",
    "plt.xlabel(\"alpha\"); plt.ylabel(\"rmse\")"
   ]
  },
  {
   "cell_type": "code",
   "execution_count": 24,
   "metadata": {
    "collapsed": false
   },
   "outputs": [
    {
     "name": "stdout",
     "output_type": "stream",
     "text": [
      "Accuracy: 0.898 (+/- 0.045)\n"
     ]
    }
   ],
   "source": [
    "# Fit the model using the alpha that resulted in the lowest CV RMSE\n",
    "model_ridge = linear_model.Ridge(alpha = 175).fit(X_trn, y_trn)\n",
    "\n",
    "# CV score, for comparison to other models\n",
    "scores = cross_val_score(model_ridge, X_trn, y_trn, cv=5)\n",
    "print(\"Accuracy: %0.3f (+/- %0.3f)\" % (scores.mean(), scores.std() * 2))"
   ]
  },
  {
   "cell_type": "markdown",
   "metadata": {},
   "source": [
    "## Lasso"
   ]
  },
  {
   "cell_type": "code",
   "execution_count": 25,
   "metadata": {
    "collapsed": false
   },
   "outputs": [
    {
     "data": {
      "text/plain": [
       "<matplotlib.text.Text at 0xc9ca231828>"
      ]
     },
     "execution_count": 25,
     "metadata": {},
     "output_type": "execute_result"
    },
    {
     "data": {
      "image/png": "[encoded data removed]",
      "text/plain": [
       "<matplotlib.figure.Figure at 0xc9c9fd4f28>"
      ]
     },
     "metadata": {},
     "output_type": "display_data"
    }
   ],
   "source": [
    "# Calculate CV RMSE for a range of alpha values\n",
    "alphas = [5e-4, 1e-3, 2e-3, 5e-3, 7.5e-3, 1e-2, 1.5e-2, 2e-2, 3e-2]\n",
    "cv_lasso = [rmse_cv(linear_model.Lasso(alpha = alpha)).mean() for alpha in alphas]\n",
    "cv_lasso = pd.Series(cv_lasso, index = alphas)\n",
    "cv_lasso.plot(title = \"Cross-validation for alpha selection\", alpha=0.7, lw=3)\n",
    "plt.xlabel(\"alpha\"); plt.ylabel(\"rmse\")"
   ]
  },
  {
   "cell_type": "code",
   "execution_count": 26,
   "metadata": {
    "collapsed": false
   },
   "outputs": [
    {
     "name": "stdout",
     "output_type": "stream",
     "text": [
      "Accuracy: 0.904 (+/- 0.046)\n"
     ]
    }
   ],
   "source": [
    "# Fit the model using the alpha that resulted in the lowest CV RMSE\n",
    "model_lasso = linear_model.Lasso(alpha = 7.5e-3).fit(X_trn, y_trn)\n",
    "# CV score\n",
    "scores = cross_val_score(model_lasso, X_trn, y_trn, cv=5)\n",
    "print(\"Accuracy: %0.3f (+/- %0.3f)\" % (scores.mean(), scores.std() * 2))"
   ]
  },
  {
   "cell_type": "markdown",
   "metadata": {},
   "source": [
    "## Random Forest"
   ]
  },
  {
   "cell_type": "code",
   "execution_count": 36,
   "metadata": {
    "collapsed": false
   },
   "outputs": [
    {
     "data": {
      "text/plain": [
       "<matplotlib.text.Text at 0xc9caced278>"
      ]
     },
     "execution_count": 36,
     "metadata": {},
     "output_type": "execute_result"
    },
    {
     "data": {
      "image/png": "[encoded data removed]",
      "text/plain": [
       "<matplotlib.figure.Figure at 0xc9ca3a94a8>"
      ]
     },
     "metadata": {},
     "output_type": "display_data"
    }
   ],
   "source": [
    "# Calculate CV RMSE for a range of maximum tree depths\n",
    "max_feats = range(20,121,10)\n",
    "cv_rf = [rmse_cv(ensemble.RandomForestRegressor(max_features = max_f, n_estimators=100, random_state=0)).mean() \n",
    "            for max_f in max_feats]\n",
    "cv_rf = pd.Series(cv_rf, index = max_feats)\n",
    "cv_rf.plot(title = \"Cross-validation for max_features selection\", alpha=0.7, lw=3)\n",
    "plt.xlabel(\"max depth\"); plt.ylabel(\"rmse\")"
   ]
  },
  {
   "cell_type": "code",
   "execution_count": 37,
   "metadata": {
    "collapsed": false
   },
   "outputs": [
    {
     "name": "stdout",
     "output_type": "stream",
     "text": [
      "Accuracy: 0.880 (+/- 0.018)\n"
     ]
    }
   ],
   "source": [
    "# Fit the model using the max_features that resulted in the lowest CV RMSE.\n",
    "# Another main parameter is the number of estimators (trees) used. Numbers larger than the one used here yield take significantly\n",
    "# longer to compute and do not siginificantly imrpove the CV score.\n",
    "model_rf = ensemble.RandomForestRegressor(max_features=70, n_estimators=100).fit(X_trn, y_trn.ravel())\n",
    "# CV score\n",
    "scores = cross_val_score(model_rf, X_trn, y_trn.ravel(), cv=5)\n",
    "print(\"Accuracy: %0.3f (+/- %0.3f)\" % (scores.mean(), scores.std() * 2))"
   ]
  },
  {
   "cell_type": "markdown",
   "metadata": {},
   "source": [
    "## Gradient Boosting"
   ]
  },
  {
   "cell_type": "code",
   "execution_count": 29,
   "metadata": {
    "collapsed": false,
    "scrolled": true
   },
   "outputs": [
    {
     "data": {
      "text/plain": [
       "<matplotlib.text.Text at 0xc9ca535a58>"
      ]
     },
     "execution_count": 29,
     "metadata": {},
     "output_type": "execute_result"
    },
    {
     "data": {
      "image/png": "[encoded data removed]",
      "text/plain": [
       "<matplotlib.figure.Figure at 0xc9ca524898>"
      ]
     },
     "metadata": {},
     "output_type": "display_data"
    }
   ],
   "source": [
    "# Calculate CV RMSE for a range of maximum tree depths\n",
    "max_depths = [2,3,4,5,6]\n",
    "cv_bst = [rmse_cv(ensemble.GradientBoostingRegressor(max_depth = max_depth)).mean() for max_depth in max_depths]\n",
    "cv_bst = pd.Series(cv_bst, index = max_depths)\n",
    "cv_bst.plot(title = \"Cross-validation for max depth selection\", alpha=0.7, lw=3)\n",
    "plt.xlabel(\"max depth\"); plt.ylabel(\"rmse\")"
   ]
  },
  {
   "cell_type": "code",
   "execution_count": 39,
   "metadata": {
    "collapsed": false
   },
   "outputs": [
    {
     "name": "stdout",
     "output_type": "stream",
     "text": [
      "Accuracy: 0.901 (+/- 0.024)\n"
     ]
    }
   ],
   "source": [
    "# Fit the model using the maximum depth that resulted in the lowest RMSE. As gradient boosting is fairly robust to overfitting,\n",
    "# the number of estimators is increased here. This takes significantly longer to run, and was therefore not done for the \n",
    "# parameter selection.\n",
    "model_bst = ensemble.GradientBoostingRegressor(n_estimators=2000, max_depth = 3).fit(X_trn, y_trn)\n",
    "# CV score\n",
    "scores = cross_val_score(model_bst, X_trn, y_trn, cv=5)\n",
    "print(\"Accuracy: %0.3f (+/- %0.3f)\" % (scores.mean(), scores.std() * 2))"
   ]
  },
  {
   "cell_type": "markdown",
   "metadata": {},
   "source": [
    "## K Nearest Neighbors"
   ]
  },
  {
   "cell_type": "code",
   "execution_count": 31,
   "metadata": {
    "collapsed": false
   },
   "outputs": [
    {
     "data": {
      "text/plain": [
       "<matplotlib.text.Text at 0xc9ca772da0>"
      ]
     },
     "execution_count": 31,
     "metadata": {},
     "output_type": "execute_result"
    },
    {
     "data": {
      "image/png": "[encoded data removed]",
      "text/plain": [
       "<matplotlib.figure.Figure at 0xc9ca77f390>"
      ]
     },
     "metadata": {},
     "output_type": "display_data"
    }
   ],
   "source": [
    "# Calculate CV RMSE for a range of the number of neighbors\n",
    "nneighbors = range(3,20)\n",
    "cv_knn = [rmse_cv(neighbors.KNeighborsRegressor(nnbrs, weights='distance')).mean() for nnbrs in nneighbors]\n",
    "cv_knn = pd.Series(cv_knn, index = nneighbors)\n",
    "cv_knn.plot(title = \"Cross-validation for nneighbors selection\", alpha=0.7, lw=3)\n",
    "plt.xlabel(\"nneighbors\"); plt.ylabel(\"rmse\")"
   ]
  },
  {
   "cell_type": "code",
   "execution_count": 32,
   "metadata": {
    "collapsed": false
   },
   "outputs": [
    {
     "name": "stdout",
     "output_type": "stream",
     "text": [
      "Accuracy: 0.767 (+/- 0.024)\n"
     ]
    }
   ],
   "source": [
    "# The optimal number of neighbors here is debatable; the one-standard-error rule would most likely yield a smaller number of \n",
    "# neighbors, but I simply take the value for which the mean RMSE is minimal for the sake of simplicity. Adding error bars (or \n",
    "# shading) and applying the one-standard-error rule to all the CV plots would be a sensible improvement of this notebook.\n",
    "model_knn = neighbors.KNeighborsRegressor(n_neighbors=10, weights='distance').fit(X_trn, y_trn)\n",
    "\n",
    "# CV score\n",
    "scores = cross_val_score(model_knn, X_trn, y_trn, cv=5)\n",
    "print(\"Accuracy: %0.3f (+/- %0.3f)\" % (scores.mean(), scores.std() * 2))"
   ]
  },
  {
   "cell_type": "markdown",
   "metadata": {},
   "source": [
    "## Support Vector Regressor"
   ]
  },
  {
   "cell_type": "code",
   "execution_count": 33,
   "metadata": {
    "collapsed": false
   },
   "outputs": [
    {
     "data": {
      "text/plain": [
       "<matplotlib.text.Text at 0xc9ca7fd400>"
      ]
     },
     "execution_count": 33,
     "metadata": {},
     "output_type": "execute_result"
    },
    {
     "data": {
      "image/png": "[encoded data removed]",
      "text/plain": [
       "<matplotlib.figure.Figure at 0xc9ca7aacc0>"
      ]
     },
     "metadata": {},
     "output_type": "display_data"
    }
   ],
   "source": [
    "# I compared the performance of radial and polynomial kernels, and the latter performed better. Similarly, other degrees for the\n",
    "# polynomial kernel were not as effective as the cubic option. The linear kernel option did not return a result within a reasonable\n",
    "# amount of time, I am not sure why.\n",
    "\n",
    "# Calculate CV RMSE for a range of penalty parameter values\n",
    "cs = [4, 4.5, 5, 5.5, 6, 6.5]\n",
    "cv_svr = [rmse_cv(svm.SVR(kernel = 'poly', C = c)).mean() for c in cs]\n",
    "cv_svr = pd.Series(cv_svr, index = cs)\n",
    "cv_svr.plot(title = \"Cross-validation for penalty parameter selection\", alpha=0.7, lw=3)\n",
    "plt.xlabel(\"penalty parameter\"); plt.ylabel(\"rmse\")"
   ]
  },
  {
   "cell_type": "code",
   "execution_count": 34,
   "metadata": {
    "collapsed": false
   },
   "outputs": [
    {
     "name": "stdout",
     "output_type": "stream",
     "text": [
      "Accuracy: 0.822 (+/- 0.102)\n"
     ]
    }
   ],
   "source": [
    "# Fit the model using the value for the penalty parameter that resulted in the lowest CV RMSE\n",
    "model_svr = svm.SVR(kernel = 'poly', C = 5).fit(X_trn, y_trn)\n",
    "\n",
    "# CV score\n",
    "scores = cross_val_score(model_svr, X_trn, y_trn, cv=5)\n",
    "print(\"Accuracy: %0.3f (+/- %0.3f)\" % (scores.mean(), scores.std() * 2))"
   ]
  },
  {
   "cell_type": "markdown",
   "metadata": {},
   "source": [
    "# Generate submission file\n",
    "Since the Lasso model has the lowest CV RMSE (even though Gradient Boosting and Ridge Regression came very close), that model is used to generate a submission:"
   ]
  },
  {
   "cell_type": "code",
   "execution_count": 35,
   "metadata": {
    "collapsed": true
   },
   "outputs": [],
   "source": [
    "# Make prediction\n",
    "pred = np.expm1(scaler_price.inverse_transform(model_lasso.predict(X_tst)))\n",
    "# Prepare submission\n",
    "subm_ndar = np.vstack((np.arange(n_trn+1,n_ttl+1), pred)).T\n",
    "submission_df = pd.DataFrame(subm_ndar, columns = ['Id', 'SalePrice'], dtype=int)\n",
    "# Write to file\n",
    "submission_df.to_csv(\"subm_Lasso.csv\", index=False)"
   ]
  }
 ],
 "metadata": {
  "kernelspec": {
   "display_name": "Python 3",
   "language": "python",
   "name": "python3"
  },
  "language_info": {
   "codemirror_mode": {
    "name": "ipython",
    "version": 3
   },
   "file_extension": ".py",
   "mimetype": "text/x-python",
   "name": "python",
   "nbconvert_exporter": "python",
   "pygments_lexer": "ipython3",
   "version": "3.5.2"
  }
 },
 "nbformat": 4,
 "nbformat_minor": 0
}
